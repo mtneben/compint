{
 "cells": [
  {
   "cell_type": "code",
   "execution_count": 1,
   "id": "fc722bbc",
   "metadata": {},
   "outputs": [],
   "source": [
    "import sqlite3"
   ]
  },
  {
   "cell_type": "code",
   "execution_count": 8,
   "id": "13d11a16",
   "metadata": {},
   "outputs": [],
   "source": [
    "conn = sqlite3.connect('cidb.db')"
   ]
  },
  {
   "cell_type": "code",
   "execution_count": 9,
   "id": "580707cc",
   "metadata": {},
   "outputs": [],
   "source": [
    "c = conn.cursor()"
   ]
  },
  {
   "cell_type": "code",
   "execution_count": 4,
   "id": "3f75f601",
   "metadata": {},
   "outputs": [],
   "source": [
    "c.execute((\"\"\"\n",
    "CREATE TABLE maintable (\n",
    "category text,\n",
    "filter text,\n",
    "date integer,\n",
    "title text,\n",
    "summary text,\n",
    "url text,\n",
    "timestamp integer,\n",
    "country text\n",
    ")\"\"\"))\n",
    "conn.commit()\n",
    "conn.close()"
   ]
  },
  {
   "cell_type": "code",
   "execution_count": 7,
   "id": "5c5472c1",
   "metadata": {},
   "outputs": [],
   "source": [
    "c.execute((\"\"\"\n",
    "CREATE TABLE wordcloudtable (\n",
    "fromdate integer,\n",
    "todate integer,\n",
    "catfilter text,\n",
    "country text\n",
    ")\"\"\"))\n",
    "conn.commit()\n",
    "conn.close()"
   ]
  },
  {
   "cell_type": "code",
   "execution_count": 10,
   "id": "7afd6b27",
   "metadata": {},
   "outputs": [],
   "source": [
    "c.execute((\"\"\"\n",
    "CREATE TABLE wordcloudtext (\n",
    "Words text,\n",
    "Freq text\n",
    ")\"\"\"))\n",
    "conn.commit()\n",
    "conn.close()"
   ]
  },
  {
   "cell_type": "code",
   "execution_count": null,
   "id": "4e69bfba",
   "metadata": {},
   "outputs": [],
   "source": []
  }
 ],
 "metadata": {
  "kernelspec": {
   "display_name": "Python 3 (ipykernel)",
   "language": "python",
   "name": "python3"
  },
  "language_info": {
   "codemirror_mode": {
    "name": "ipython",
    "version": 3
   },
   "file_extension": ".py",
   "mimetype": "text/x-python",
   "name": "python",
   "nbconvert_exporter": "python",
   "pygments_lexer": "ipython3",
   "version": "3.10.6"
  }
 },
 "nbformat": 4,
 "nbformat_minor": 5
}
